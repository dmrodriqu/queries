{
 "cells": [
  {
   "cell_type": "code",
   "execution_count": 17,
   "metadata": {
    "collapsed": false,
    "scrolled": true
   },
   "outputs": [
    {
     "name": "stdout",
     "output_type": "stream",
     "text": [
      "{1: 'foo', 2: 'bar', 3: 'bar1', 4: 'bar2'}\n"
     ]
    }
   ],
   "source": [
    "\n",
    "string = 'foo bar foo foo bar1 bar2'\n",
    "\n",
    "dictionary = {}\n",
    "\n",
    "stringlist = string.split()\n",
    "\n",
    "stringset = set([])\n",
    "i = 1\n",
    "for word in stringlist:\n",
    "    if word not in stringset:\n",
    "        stringset.add(word)\n",
    "        dictionary.update({i:word})\n",
    "        i = i+1\n",
    "    else:\n",
    "        pass\n",
    "print dictionary"
   ]
  },
  {
   "cell_type": "code",
   "execution_count": null,
   "metadata": {
    "collapsed": true
   },
   "outputs": [],
   "source": []
  }
 ],
 "metadata": {
  "kernelspec": {
   "display_name": "Python 2",
   "language": "python",
   "name": "python2"
  },
  "language_info": {
   "codemirror_mode": {
    "name": "ipython",
    "version": 2
   },
   "file_extension": ".py",
   "mimetype": "text/x-python",
   "name": "python",
   "nbconvert_exporter": "python",
   "pygments_lexer": "ipython2",
   "version": "2.7.11"
  }
 },
 "nbformat": 4,
 "nbformat_minor": 0
}
