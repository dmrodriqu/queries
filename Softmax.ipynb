{
 "cells": [
  {
   "cell_type": "code",
   "execution_count": 18,
   "metadata": {
    "collapsed": false
   },
   "outputs": [
    {
     "name": "stdout",
     "output_type": "stream",
     "text": [
      "[0.6590011388859679, 0.2424329707047139, 0.09856589040931818]\n"
     ]
    }
   ],
   "source": [
    "## basic functions\n",
    "\n",
    "import math\n",
    "valtosoftmax = [2.0, 1.0, 0.1]\n",
    "\n",
    "softmaxnum = map(lambda x: math.exp(x), valtosoftmax)\n",
    "softmaxdenom = sum(map(lambda x :math.exp(x), valtosoftmax))\n",
    "softmax = []\n",
    "for each in softmaxnum:\n",
    "    softmax.append(each/softmaxdenom)\n",
    "print softmax"
   ]
  },
  {
   "cell_type": "code",
   "execution_count": 19,
   "metadata": {
    "collapsed": false
   },
   "outputs": [
    {
     "data": {
      "text/plain": [
       "[0.6590011388859679, 0.2424329707047139, 0.09856589040931818]"
      ]
     },
     "execution_count": 19,
     "metadata": {},
     "output_type": "execute_result"
    }
   ],
   "source": [
    "## making one function\n",
    "## takes list of values and returns list of softmax\n",
    "\n",
    "def softmax(x):\n",
    "    softmaxnum = map(lambda x: math.exp(x), valtosoftmax)\n",
    "    softmaxdenom = sum(map(lambda x :math.exp(x), valtosoftmax))\n",
    "    softmax = []\n",
    "    for each in softmaxnum:\n",
    "        softmax.append(each/softmaxdenom)\n",
    "    return softmax\n",
    "\n",
    "softmax(valtosoftmax)"
   ]
  },
  {
   "cell_type": "code",
   "execution_count": 29,
   "metadata": {
    "collapsed": false
   },
   "outputs": [
    {
     "name": "stdout",
     "output_type": "stream",
     "text": [
      "[ 0.08360188  0.01131428  0.00508384]\n"
     ]
    }
   ],
   "source": []
  },
  {
   "cell_type": "code",
   "execution_count": null,
   "metadata": {
    "collapsed": true
   },
   "outputs": [],
   "source": []
  },
  {
   "cell_type": "code",
   "execution_count": null,
   "metadata": {
    "collapsed": true
   },
   "outputs": [],
   "source": []
  }
 ],
 "metadata": {
  "kernelspec": {
   "display_name": "Python 2",
   "language": "python",
   "name": "python2"
  },
  "language_info": {
   "codemirror_mode": {
    "name": "ipython",
    "version": 2
   },
   "file_extension": ".py",
   "mimetype": "text/x-python",
   "name": "python",
   "nbconvert_exporter": "python",
   "pygments_lexer": "ipython2",
   "version": "2.7.11"
  }
 },
 "nbformat": 4,
 "nbformat_minor": 0
}
